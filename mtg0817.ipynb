{
 "cells": [
  {
   "cell_type": "code",
   "execution_count": 2,
   "metadata": {},
   "outputs": [
    {
     "name": "stdout",
     "output_type": "stream",
     "text": [
      "Requirement already satisfied: requests in /anaconda3/lib/python3.6/site-packages (2.18.4)\n",
      "Requirement already satisfied: chardet<3.1.0,>=3.0.2 in /anaconda3/lib/python3.6/site-packages (from requests) (3.0.4)\n",
      "Requirement already satisfied: idna<2.7,>=2.5 in /anaconda3/lib/python3.6/site-packages (from requests) (2.6)\n",
      "Requirement already satisfied: urllib3<1.23,>=1.21.1 in /anaconda3/lib/python3.6/site-packages (from requests) (1.22)\n",
      "Requirement already satisfied: certifi>=2017.4.17 in /anaconda3/lib/python3.6/site-packages (from requests) (2018.4.16)\n",
      "Requirement already satisfied: BeautifulSoup4 in /anaconda3/lib/python3.6/site-packages (4.6.0)\n"
     ]
    }
   ],
   "source": [
    "!pip install requests\n",
    "!pip install BeautifulSoup4\n",
    "import requests\n",
    "from bs4 import BeautifulSoup\n",
    "import pandas as pd\n",
    "import numpy as np\n",
    "import re\n"
   ]
  },
  {
   "cell_type": "code",
   "execution_count": 3,
   "metadata": {},
   "outputs": [],
   "source": [
    "#URL取得、はれるやより\n",
    "result = requests.get(\"http://www.hareruyamtg.com/purchase/e/eBuy-Mdn_sspd/\")\n",
    "soup = BeautifulSoup(result.text, \"lxml\")"
   ]
  },
  {
   "cell_type": "code",
   "execution_count": 4,
   "metadata": {
    "scrolled": false
   },
   "outputs": [],
   "source": [
    "tag_a = soup.find_all('a')"
   ]
  },
  {
   "cell_type": "code",
   "execution_count": 7,
   "metadata": {},
   "outputs": [
    {
     "name": "stdout",
     "output_type": "stream",
     "text": [
      "/purchase/g/gISD000187EN/\n",
      "/purchase/g/gSOM000121EN/\n",
      "/purchase/g/gWWK000051EN/\n",
      "/purchase/g/gMM3000076EN/\n",
      "/purchase/g/gMM2015000223EN/\n",
      "/purchase/g/gAVR000225EN/\n",
      "/purchase/g/gNPH000016EN/\n",
      "/purchase/g/gZEN000124EN/\n",
      "/purchase/g/gFUT000140EN/\n",
      "/purchase/g/gMM3000232EN/\n",
      "/purchase/g/gMM3000244EN/\n",
      "/purchase/g/gMM2015000004EN/\n",
      "/purchase/g/gCON000041EN/\n",
      "/purchase/g/gMM3000050EN/\n",
      "/purchase/g/gMM2015000151EN/\n",
      "/purchase/g/gISD000135EN/\n",
      "/purchase/g/gMM3000141EN/\n",
      "/purchase/g/gMM2015000165EN/\n",
      "/purchase/g/gMMA000057EN/\n",
      "/purchase/g/gFUT000061EN/\n",
      "/purchase/g/gCSP000031EN/\n",
      "/purchase/g/gRAV000050EN/\n",
      "/purchase/g/g5DN000021EN/\n",
      "/purchase/g/gMRD000193EN/\n",
      "/purchase/g/gMMA000064EN/\n",
      "/purchase/g/gMMA000202EN/\n",
      "/purchase/g/gZEN000184EN/\n",
      "/purchase/g/gMM3000249EN/\n",
      "/purchase/g/gROE000026EN/\n",
      "/purchase/g/gMM2015000003EN/\n",
      "/purchase/g/gMM2015000075EN/\n",
      "/purchase/g/gMMA000066EN/\n",
      "/purchase/g/gZEN000141EN/\n",
      "/purchase/g/gMM3000240EN/\n",
      "/purchase/g/gSOM000171EN/\n",
      "/purchase/g/gWWK000004EN/\n",
      "/purchase/g/gMOR000039EN/\n",
      "/purchase/g/gCHK000272EN/\n",
      "/purchase/g/gDST000085EN/\n",
      "/purchase/g/gMM2015000071EN/\n",
      "/purchase/g/gMMA000124EN/\n",
      "/purchase/g/gDST000102EN/\n",
      "/purchase/g/gMMA000167EN/\n",
      "/purchase/g/gROE000099EN/\n",
      "/purchase/g/gZEN000030EN/\n",
      "/purchase/g/gZEN000154EN/\n",
      "/purchase/g/gGPT000149EN/\n",
      "/purchase/g/gBOK000062EN/\n",
      "/purchase/g/gDST000155EN/\n",
      "/purchase/g/gM11000041EN/\n"
     ]
    }
   ],
   "source": [
    "for x in tag_a:\n",
    "    tmp = x.get('href')\n",
    "    tmp = re.findall(r'purchase/g/g',tmp)\n",
    "    if tmp:\n",
    "        print(x.get('href'))"
   ]
  },
  {
   "cell_type": "code",
   "execution_count": 6,
   "metadata": {},
   "outputs": [
    {
     "ename": "NameError",
     "evalue": "name 'card_name_list' is not defined",
     "output_type": "error",
     "traceback": [
      "\u001b[0;31m---------------------------------------------------------------------------\u001b[0m",
      "\u001b[0;31mNameError\u001b[0m                                 Traceback (most recent call last)",
      "\u001b[0;32m<ipython-input-6-01c6f4cad260>\u001b[0m in \u001b[0;36m<module>\u001b[0;34m()\u001b[0m\n\u001b[0;32m----> 1\u001b[0;31m \u001b[0mse_cardlist\u001b[0m \u001b[0;34m=\u001b[0m \u001b[0mpd\u001b[0m\u001b[0;34m.\u001b[0m\u001b[0mSeries\u001b[0m\u001b[0;34m(\u001b[0m\u001b[0mcard_name_list\u001b[0m\u001b[0;34m)\u001b[0m\u001b[0;34m\u001b[0m\u001b[0m\n\u001b[0m\u001b[1;32m      2\u001b[0m \u001b[0mse_cardlist\u001b[0m\u001b[0;34m[\u001b[0m\u001b[0mse_cardlist\u001b[0m\u001b[0;34m.\u001b[0m\u001b[0mstr\u001b[0m\u001b[0;34m.\u001b[0m\u001b[0mreplace\u001b[0m\u001b[0;34m(\u001b[0m\u001b[0;34m\"【ENG】《\"\u001b[0m\u001b[0;34m,\u001b[0m \u001b[0;34m\"\"\u001b[0m\u001b[0;34m,\u001b[0m \u001b[0mregex\u001b[0m \u001b[0;34m=\u001b[0m \u001b[0;32mTrue\u001b[0m\u001b[0;34m)\u001b[0m\u001b[0;34m]\u001b[0m\u001b[0;34m\u001b[0m\u001b[0m\n",
      "\u001b[0;31mNameError\u001b[0m: name 'card_name_list' is not defined"
     ]
    }
   ],
   "source": [
    "se_cardlist = pd.Series(card_name_list)\n",
    "se_cardlist[se_cardlist.str.replace(\"【ENG】《\", \"\", regex = True)]"
   ]
  },
  {
   "cell_type": "code",
   "execution_count": null,
   "metadata": {},
   "outputs": [],
   "source": []
  }
 ],
 "metadata": {
  "kernelspec": {
   "display_name": "Python 3",
   "language": "python",
   "name": "python3"
  },
  "language_info": {
   "codemirror_mode": {
    "name": "ipython",
    "version": 3
   },
   "file_extension": ".py",
   "mimetype": "text/x-python",
   "name": "python",
   "nbconvert_exporter": "python",
   "pygments_lexer": "ipython3",
   "version": "3.6.5"
  }
 },
 "nbformat": 4,
 "nbformat_minor": 2
}
