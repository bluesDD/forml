{
 "cells": [
  {
   "cell_type": "code",
   "execution_count": 55,
   "metadata": {},
   "outputs": [
    {
     "name": "stdout",
     "output_type": "stream",
     "text": [
      "Requirement already satisfied: requests in /anaconda3/lib/python3.6/site-packages (2.18.4)\n",
      "Requirement already satisfied: chardet<3.1.0,>=3.0.2 in /anaconda3/lib/python3.6/site-packages (from requests) (3.0.4)\n",
      "Requirement already satisfied: idna<2.7,>=2.5 in /anaconda3/lib/python3.6/site-packages (from requests) (2.6)\n",
      "Requirement already satisfied: urllib3<1.23,>=1.21.1 in /anaconda3/lib/python3.6/site-packages (from requests) (1.22)\n",
      "Requirement already satisfied: certifi>=2017.4.17 in /anaconda3/lib/python3.6/site-packages (from requests) (2018.4.16)\n",
      "Requirement already satisfied: BeautifulSoup4 in /anaconda3/lib/python3.6/site-packages (4.6.0)\n"
     ]
    }
   ],
   "source": [
    "!pip install requests\n",
    "!pip install BeautifulSoup4\n",
    "import requests\n",
    "from bs4 import BeautifulSoup\n",
    "import pandas as pd\n",
    "import numpy as np\n",
    "import re\n"
   ]
  },
  {
   "cell_type": "code",
   "execution_count": 56,
   "metadata": {},
   "outputs": [],
   "source": [
    "#URL取得、はれるやより\n",
    "result = requests.get(\"http://www.hareruyamtg.com/purchase/e/eBuy-Mdn_sspd/\")\n",
    "soup = BeautifulSoup(result.text, \"lxml\")"
   ]
  },
  {
   "cell_type": "code",
   "execution_count": 57,
   "metadata": {
    "scrolled": false
   },
   "outputs": [],
   "source": [
    "tag_a = soup.find_all('a')\n",
    "tmp_list = []\n",
    "tmp_text = []"
   ]
  },
  {
   "cell_type": "code",
   "execution_count": 58,
   "metadata": {},
   "outputs": [],
   "source": [
    "for x in tag_a:\n",
    "    tmp = x.get('href')\n",
    "    tmp = re.findall(r'purchase/g/g',tmp)\n",
    "    if tmp:\n",
    "        tmp_list.append(x.get('href'))"
   ]
  },
  {
   "cell_type": "code",
   "execution_count": 60,
   "metadata": {},
   "outputs": [],
   "source": [
    "for x in tmp_list:\n",
    "    url = \"http://www.hareruyamtg.com/purchase/e/eBuy-Mdn_sspd\" + x\n",
    "    tmpResult = requests.get(url)\n",
    "    tmpSoup = BeautifulSoup(tmpResult.text, \"lxml\")\n",
    "    tag_table = tmpSoup.find_all(\"td\")\n",
    "    tmp_text.append(tag_table[9].getText())"
   ]
  },
  {
   "cell_type": "code",
   "execution_count": 69,
   "metadata": {},
   "outputs": [],
   "source": [
    "tmp_text = pd.Series(tmp_text)\n",
    "tmp_text = tmp_text.replace(r'\\r\\n\\t\\t\\t\\t\\t','', regex=True)"
   ]
  },
  {
   "cell_type": "code",
   "execution_count": 73,
   "metadata": {},
   "outputs": [],
   "source": [
    "df = tmp_text.drop_duplicates()"
   ]
  },
  {
   "cell_type": "code",
   "execution_count": 77,
   "metadata": {},
   "outputs": [],
   "source": [
    "df = df.reset_index(drop=True)"
   ]
  },
  {
   "cell_type": "code",
   "execution_count": 80,
   "metadata": {},
   "outputs": [],
   "source": [
    "df.columns=[\"Text\"]"
   ]
  },
  {
   "cell_type": "code",
   "execution_count": 81,
   "metadata": {},
   "outputs": [
    {
     "data": {
      "text/plain": [
       "0     [+1]：各プレイヤーはカードを１枚捨てる。[-2]：プレイヤー１人を対象とする。そのプレイ...\n",
       "1     金属術 ― (Ｔ)：あなたのマナ・プールに好きな色１色のマナ１点を加える。この能力は、あなた...\n",
       "2     [+2]：プレイヤー１人を対象とする。そのプレイヤーのライブラリーの一番上のカードを見る。あ...\n",
       "3     魂の洞窟が戦場に出るに際し、クリーチャー・タイプを１つ選ぶ。(Ｔ)：あなたのマナ・プールに(...\n",
       "4     [+4]：プレイヤー１人を対象とする。そのプレイヤーは自分の手札からカードを１枚追放する。[...\n",
       "5     (Ｔ),１点のライフを支払う,沸騰する小湖を生け贄に捧げる：あなたのライブラリーから島(Is...\n",
       "6     タルモゴイフのパワーは、すべての墓地にあるカードのカード・タイプの数に等しく、タフネスはその...\n",
       "7     賛美（あなたがコントロールするいずれかのクリーチャーが単独で攻撃するたび、そのクリーチャーは...\n",
       "8     瞬速瞬唱の魔道士が戦場に出たとき、あなたの墓地にあるインスタント・カード１枚かソーサリー・カ...\n",
       "9     (Ｔ),１点のライフを支払う：あなたのマナ・プールに(緑)か(白)を加える。(１),(Ｔ),...\n",
       "10    暗黒の深部はその上に氷(ice)カウンターが１０個置かれた状態で戦場に出る。(３)：暗黒の深...\n",
       "11    あなたのアップキープの開始時に、あなたのライブラリーの一番上のカードを１枚公開し、そのカード...\n",
       "12    烈日（これはその上に、それを唱えるために使われたマナの色１色につき蓄積(charge)カウン...\n",
       "13    虚空の杯はその上にＸ個の蓄積(charge)カウンターが置かれた状態で戦場に出る。プレイヤー...\n",
       "14    (Ｔ),１点のライフを支払う,新緑の地下墓地を生け贄に捧げる：あなたのライブラリーから沼(S...\n",
       "15    引き裂かれし永劫、エムラクールは打ち消されない。あなたが引き裂かれし永劫、エムラクールを唱え...\n",
       "16    (Ｔ),１点のライフを支払う,霧深い雨林を生け贄に捧げる：あなたのライブラリーから森(For...\n",
       "17    あなたがコントロールしている他の土地が３つ以上であるかぎり、黒割れの崖はタップ状態で戦場に出...\n",
       "18    天界の列柱はタップ状態で戦場に出る。(Ｔ)：あなたのマナ・プールに(白)か(青)を加える。(...\n",
       "19    あなたのアップキープの開始時に、あなたは１点のライフを失い、飛行を持つ黒の1/1のフェアリー...\n",
       "20    あなたは、あなたの手札からクリーチャー・カードを１枚戦場に出してもよい。そのクリーチャーは、...\n",
       "21    装備しているクリーチャーは+2/+2の修整を受けるとともに、プロテクション（赤）とプロテクシ...\n",
       "22    あなたのアップキープの開始時に、あなたは霊気の薬瓶の上に蓄積(charge)カウンターを１個...\n",
       "23    速攻あなたが呪文を唱えるたび、それがこのターンにあなたが唱えた２つ目のクリーチャー呪文である...\n",
       "24    (Ｔ),１点のライフを支払う,乾燥台地を生け贄に捧げる：あなたのライブラリーから山(Moun...\n",
       "25    (Ｔ),１点のライフを支払う,湿地の干潟を生け贄に捧げる：あなたのライブラリーから平地(Pl...\n",
       "26    虚空の力線があなたのゲーム開始時の手札にある場合、あなたはそれが戦場に出ている状態でゲームを...\n",
       "27    あなたの墓地にある伝説のクリーチャー・カード１枚を対象とし、それを戦場に戻す。そのクリーチャ...\n",
       "28    アーティファクトを１つ生け贄に捧げる：電結の荒廃者の上に+1/+1カウンターを１個置く。接合...\n",
       "dtype: object"
      ]
     },
     "execution_count": 81,
     "metadata": {},
     "output_type": "execute_result"
    }
   ],
   "source": [
    "df"
   ]
  },
  {
   "cell_type": "code",
   "execution_count": 6,
   "metadata": {},
   "outputs": [
    {
     "ename": "NameError",
     "evalue": "name 'card_name_list' is not defined",
     "output_type": "error",
     "traceback": [
      "\u001b[0;31m---------------------------------------------------------------------------\u001b[0m",
      "\u001b[0;31mNameError\u001b[0m                                 Traceback (most recent call last)",
      "\u001b[0;32m<ipython-input-6-01c6f4cad260>\u001b[0m in \u001b[0;36m<module>\u001b[0;34m()\u001b[0m\n\u001b[0;32m----> 1\u001b[0;31m \u001b[0mse_cardlist\u001b[0m \u001b[0;34m=\u001b[0m \u001b[0mpd\u001b[0m\u001b[0;34m.\u001b[0m\u001b[0mSeries\u001b[0m\u001b[0;34m(\u001b[0m\u001b[0mcard_name_list\u001b[0m\u001b[0;34m)\u001b[0m\u001b[0;34m\u001b[0m\u001b[0m\n\u001b[0m\u001b[1;32m      2\u001b[0m \u001b[0mse_cardlist\u001b[0m\u001b[0;34m[\u001b[0m\u001b[0mse_cardlist\u001b[0m\u001b[0;34m.\u001b[0m\u001b[0mstr\u001b[0m\u001b[0;34m.\u001b[0m\u001b[0mreplace\u001b[0m\u001b[0;34m(\u001b[0m\u001b[0;34m\"【ENG】《\"\u001b[0m\u001b[0;34m,\u001b[0m \u001b[0;34m\"\"\u001b[0m\u001b[0;34m,\u001b[0m \u001b[0mregex\u001b[0m \u001b[0;34m=\u001b[0m \u001b[0;32mTrue\u001b[0m\u001b[0;34m)\u001b[0m\u001b[0;34m]\u001b[0m\u001b[0;34m\u001b[0m\u001b[0m\n",
      "\u001b[0;31mNameError\u001b[0m: name 'card_name_list' is not defined"
     ]
    }
   ],
   "source": [
    "se_cardlist = pd.Series(card_name_list)\n",
    "se_cardlist[se_cardlist.str.replace(\"【ENG】《\", \"\", regex = True)]"
   ]
  },
  {
   "cell_type": "code",
   "execution_count": null,
   "metadata": {},
   "outputs": [],
   "source": []
  }
 ],
 "metadata": {
  "kernelspec": {
   "display_name": "Python 3",
   "language": "python",
   "name": "python3"
  },
  "language_info": {
   "codemirror_mode": {
    "name": "ipython",
    "version": 3
   },
   "file_extension": ".py",
   "mimetype": "text/x-python",
   "name": "python",
   "nbconvert_exporter": "python",
   "pygments_lexer": "ipython3",
   "version": "3.6.5"
  }
 },
 "nbformat": 4,
 "nbformat_minor": 2
}
