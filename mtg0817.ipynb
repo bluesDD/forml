{
 "cells": [
  {
   "cell_type": "code",
   "execution_count": 45,
   "metadata": {},
   "outputs": [
    {
     "name": "stdout",
     "output_type": "stream",
     "text": [
      "Requirement already satisfied: requests in c:\\anaconda3\\lib\\site-packages (2.18.4)\n",
      "Requirement already satisfied: chardet<3.1.0,>=3.0.2 in c:\\anaconda3\\lib\\site-packages (from requests) (3.0.4)\n",
      "Requirement already satisfied: idna<2.7,>=2.5 in c:\\anaconda3\\lib\\site-packages (from requests) (2.6)\n",
      "Requirement already satisfied: urllib3<1.23,>=1.21.1 in c:\\anaconda3\\lib\\site-packages (from requests) (1.22)\n",
      "Requirement already satisfied: certifi>=2017.4.17 in c:\\anaconda3\\lib\\site-packages (from requests) (2018.4.16)\n"
     ]
    },
    {
     "name": "stderr",
     "output_type": "stream",
     "text": [
      "distributed 1.21.8 requires msgpack, which is not installed.\n",
      "You are using pip version 10.0.1, however version 18.0 is available.\n",
      "You should consider upgrading via the 'python -m pip install --upgrade pip' command.\n"
     ]
    },
    {
     "name": "stdout",
     "output_type": "stream",
     "text": [
      "Requirement already satisfied: BeautifulSoup4 in c:\\anaconda3\\lib\\site-packages (4.6.0)\n"
     ]
    },
    {
     "name": "stderr",
     "output_type": "stream",
     "text": [
      "distributed 1.21.8 requires msgpack, which is not installed.\n",
      "You are using pip version 10.0.1, however version 18.0 is available.\n",
      "You should consider upgrading via the 'python -m pip install --upgrade pip' command.\n"
     ]
    }
   ],
   "source": [
    "!pip install requests\n",
    "!pip install BeautifulSoup4\n",
    "import requests\n",
    "from bs4 import BeautifulSoup\n",
    "import pandas as pd\n",
    "import numpy as np\n"
   ]
  },
  {
   "cell_type": "code",
   "execution_count": 46,
   "metadata": {},
   "outputs": [],
   "source": [
    "#URL取得、はれるやより\n",
    "result = requests.get(\"http://www.hareruyamtg.com/purchase/e/eBuy-Mdn_sspd/\")\n",
    "soup = BeautifulSoup(result.text, \"lxml\")"
   ]
  },
  {
   "cell_type": "code",
   "execution_count": 47,
   "metadata": {},
   "outputs": [
    {
     "name": "stdout",
     "output_type": "stream",
     "text": [
      "['【ENG】《ヴェールのリリアナ/Liliana of the Veil》[ISD] 黒R', '【ENG】《オパールのモックス/Mox Opal》[SOM] 茶R', '【ENG】《精神を刻む者、ジェイス/Jace, the Mind Sculptor》[WWK] 青R', '【ENG】《ヴェールのリリアナ/Liliana of the Veil》[MM3] 黒R', '【ENG】《オパールのモックス/Mox Opal》[MM2] 茶R', '【ENG】《魂の洞窟/Cavern of Souls》[AVR] 土地R', '【ENG】《解放された者、カーン/Karn Liberated》[NPH] 無R', '【ENG】《沸騰する小湖/Scalding Tarn》[ZEN] 土地R', '【ENG】《タルモゴイフ/Tarmogoyf》[FUT] 緑R', '【ENG】《魂の洞窟/Cavern of Souls》[MM3] 土地R', '【ENG】《沸騰する小湖/Scalding Tarn》[MM3] 土地R', '【ENG】《解放された者、カーン/Karn Liberated》[MM2] 無R', '【ENG】《貴族の教主/Noble Hierarch》[CON] 緑R', '【ENG】《瞬唱の魔道士/Snapcaster Mage》[MM3] 青R', '【ENG】《貴族の教主/Noble Hierarch》[MM2] 緑R', '【ENG】《瞬唱の魔道士/Snapcaster Mage》[ISD] 青R', '【ENG】《タルモゴイフ/Tarmogoyf》[MM3] 緑R', '【ENG】《タルモゴイフ/Tarmogoyf》[MM2] 緑R', '【ENG】《タルモゴイフ/Tarmogoyf》[MMA] 緑R', '【ENG】《地平線の梢/Horizon Canopy》[FUT] 土地R', '【ENG】《暗黒の深部/Dark Depths》[CSP] 土地R', '【ENG】《闇の腹心/Dark Confidant》[RAV] 黒R', '【ENG】《仕組まれた爆薬/Engineered Explosives》[5DN] 茶R', '【ENG】《虚空の杯/Chalice of the Void》[MRD] 茶R', '【ENG】《虚空の杯/Chalice of the Void》[MMA] 茶R', '【ENG】《仕組まれた爆薬/Engineered Explosives》[MMA] 茶R', '【ENG】《新緑の地下墓地/Verdant Catacombs》[ZEN] 土地R', '【ENG】《新緑の地下墓地/Verdant Catacombs》[MM3] 土地R', '【ENG】《引き裂かれし永劫、エムラクール/Emrakul, the Aeons Torn》[ROE] 無R', '【ENG】《引き裂かれし永劫、エムラクール/Emrakul, the Aeons Torn》[MM2] 無R', '【ENG】《闇の腹心/Dark Confidant》[MM2] 黒R', '【ENG】《闇の腹心/Dark Confidant》[MMA] 黒R', '【ENG】《霧深い雨林/Misty Rainforest》[ZEN] 土地R', '【ENG】《霧深い雨林/Misty Rainforest》[MM3] 土地R', '【ENG】《黒割れの崖/Blackcleave Cliffs》[SOM] 土地R', '【ENG】《天界の列柱/Celestial Colonnade》[WWK] 土地R', '【ENG】《苦花/Bitterblossom》[MOR] 黒R', '【ENG】《裂け目の突破/Through the Breach》[CHK] 赤R', '【ENG】《火と氷の剣/Sword of Fire and Ice》[DST] 茶R', '【ENG】《苦花/Bitterblossom》[MM2] 黒R', '【ENG】《火と氷の剣/Sword of Fire and Ice》[MMA] 茶R', '【ENG】《霊気の薬瓶/AEther Vial》[DST] 茶U', '【ENG】《霊気の薬瓶/AEther Vial》[MMA] 茶R', '【ENG】《復讐蔦/Vengevine》[ROE] 緑R', '【ENG】《乾燥台地/Arid Mesa》[ZEN] 土地R', '【ENG】《湿地の干潟/Marsh Flats》[ZEN] 土地R', '【ENG】《虚空の力線/Leyline of the Void》[GPT] 黒R', \"【ENG】《御霊の復讐/Goryo's Vengeance》[BOK] 黒R\", '【ENG】《電結の荒廃者/Arcbound Ravager》[DST] 茶R', '【ENG】《虚空の力線/Leyline of the Void》[M11] 黒R']\n"
     ]
    }
   ],
   "source": [
    "#モダンのカード名を上から150個リスト化する\n",
    "mtg_modern_list = soup.find_all(\"p\", class_='itemName')\n",
    "\n",
    "card_name_list= []\n",
    "\n",
    "for a in mtg_modern_list:\n",
    "    card_name = a.get_text()\n",
    "    card_name_list.append(card_name)\n",
    "    \n",
    "print(card_name_list)"
   ]
  },
  {
   "cell_type": "code",
   "execution_count": 61,
   "metadata": {},
   "outputs": [
    {
     "data": {
      "text/plain": [
       "ヴェールのリリアナ/Liliana of the Veil》[ISD] 黒R              NaN\n",
       "オパールのモックス/Mox Opal》[SOM] 茶R                         NaN\n",
       "精神を刻む者、ジェイス/Jace, the Mind Sculptor》[WWK] 青R        NaN\n",
       "ヴェールのリリアナ/Liliana of the Veil》[MM3] 黒R              NaN\n",
       "オパールのモックス/Mox Opal》[MM2] 茶R                         NaN\n",
       "魂の洞窟/Cavern of Souls》[AVR] 土地R                      NaN\n",
       "解放された者、カーン/Karn Liberated》[NPH] 無R                  NaN\n",
       "沸騰する小湖/Scalding Tarn》[ZEN] 土地R                      NaN\n",
       "タルモゴイフ/Tarmogoyf》[FUT] 緑R                           NaN\n",
       "魂の洞窟/Cavern of Souls》[MM3] 土地R                      NaN\n",
       "沸騰する小湖/Scalding Tarn》[MM3] 土地R                      NaN\n",
       "解放された者、カーン/Karn Liberated》[MM2] 無R                  NaN\n",
       "貴族の教主/Noble Hierarch》[CON] 緑R                       NaN\n",
       "瞬唱の魔道士/Snapcaster Mage》[MM3] 青R                     NaN\n",
       "貴族の教主/Noble Hierarch》[MM2] 緑R                       NaN\n",
       "瞬唱の魔道士/Snapcaster Mage》[ISD] 青R                     NaN\n",
       "タルモゴイフ/Tarmogoyf》[MM3] 緑R                           NaN\n",
       "タルモゴイフ/Tarmogoyf》[MM2] 緑R                           NaN\n",
       "タルモゴイフ/Tarmogoyf》[MMA] 緑R                           NaN\n",
       "地平線の梢/Horizon Canopy》[FUT] 土地R                      NaN\n",
       "暗黒の深部/Dark Depths》[CSP] 土地R                         NaN\n",
       "闇の腹心/Dark Confidant》[RAV] 黒R                        NaN\n",
       "仕組まれた爆薬/Engineered Explosives》[5DN] 茶R              NaN\n",
       "虚空の杯/Chalice of the Void》[MRD] 茶R                   NaN\n",
       "虚空の杯/Chalice of the Void》[MMA] 茶R                   NaN\n",
       "仕組まれた爆薬/Engineered Explosives》[MMA] 茶R              NaN\n",
       "新緑の地下墓地/Verdant Catacombs》[ZEN] 土地R                 NaN\n",
       "新緑の地下墓地/Verdant Catacombs》[MM3] 土地R                 NaN\n",
       "引き裂かれし永劫、エムラクール/Emrakul, the Aeons Torn》[ROE] 無R    NaN\n",
       "引き裂かれし永劫、エムラクール/Emrakul, the Aeons Torn》[MM2] 無R    NaN\n",
       "闇の腹心/Dark Confidant》[MM2] 黒R                        NaN\n",
       "闇の腹心/Dark Confidant》[MMA] 黒R                        NaN\n",
       "霧深い雨林/Misty Rainforest》[ZEN] 土地R                    NaN\n",
       "霧深い雨林/Misty Rainforest》[MM3] 土地R                    NaN\n",
       "黒割れの崖/Blackcleave Cliffs》[SOM] 土地R                  NaN\n",
       "天界の列柱/Celestial Colonnade》[WWK] 土地R                 NaN\n",
       "苦花/Bitterblossom》[MOR] 黒R                           NaN\n",
       "裂け目の突破/Through the Breach》[CHK] 赤R                  NaN\n",
       "火と氷の剣/Sword of Fire and Ice》[DST] 茶R                NaN\n",
       "苦花/Bitterblossom》[MM2] 黒R                           NaN\n",
       "火と氷の剣/Sword of Fire and Ice》[MMA] 茶R                NaN\n",
       "霊気の薬瓶/AEther Vial》[DST] 茶U                          NaN\n",
       "霊気の薬瓶/AEther Vial》[MMA] 茶R                          NaN\n",
       "復讐蔦/Vengevine》[ROE] 緑R                              NaN\n",
       "乾燥台地/Arid Mesa》[ZEN] 土地R                            NaN\n",
       "湿地の干潟/Marsh Flats》[ZEN] 土地R                         NaN\n",
       "虚空の力線/Leyline of the Void》[GPT] 黒R                  NaN\n",
       "御霊の復讐/Goryo's Vengeance》[BOK] 黒R                    NaN\n",
       "電結の荒廃者/Arcbound Ravager》[DST] 茶R                    NaN\n",
       "虚空の力線/Leyline of the Void》[M11] 黒R                  NaN\n",
       "dtype: object"
      ]
     },
     "execution_count": 61,
     "metadata": {},
     "output_type": "execute_result"
    }
   ],
   "source": [
    "se_cardlist = pd.Series(card_name_list)\n",
    "se_cardlist[se_cardlist.str.replace(\"【ENG】《\", \"\", regex = True)]"
   ]
  }
 ],
 "metadata": {
  "kernelspec": {
   "display_name": "Python 3",
   "language": "python",
   "name": "python3"
  },
  "language_info": {
   "codemirror_mode": {
    "name": "ipython",
    "version": 3
   },
   "file_extension": ".py",
   "mimetype": "text/x-python",
   "name": "python",
   "nbconvert_exporter": "python",
   "pygments_lexer": "ipython3",
   "version": "3.6.5"
  }
 },
 "nbformat": 4,
 "nbformat_minor": 2
}
