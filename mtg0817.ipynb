{
 "cells": [
  {
   "cell_type": "code",
   "execution_count": 82,
   "metadata": {},
   "outputs": [
    {
     "name": "stdout",
     "output_type": "stream",
     "text": [
      "Requirement already satisfied: requests in /anaconda3/lib/python3.6/site-packages (2.18.4)\n",
      "Requirement already satisfied: chardet<3.1.0,>=3.0.2 in /anaconda3/lib/python3.6/site-packages (from requests) (3.0.4)\n",
      "Requirement already satisfied: idna<2.7,>=2.5 in /anaconda3/lib/python3.6/site-packages (from requests) (2.6)\n",
      "Requirement already satisfied: urllib3<1.23,>=1.21.1 in /anaconda3/lib/python3.6/site-packages (from requests) (1.22)\n",
      "Requirement already satisfied: certifi>=2017.4.17 in /anaconda3/lib/python3.6/site-packages (from requests) (2018.4.16)\n",
      "Requirement already satisfied: BeautifulSoup4 in /anaconda3/lib/python3.6/site-packages (4.6.0)\n"
     ]
    }
   ],
   "source": [
    "!pip install requests\n",
    "!pip install BeautifulSoup4\n",
    "import requests\n",
    "from bs4 import BeautifulSoup\n",
    "import pandas as pd\n",
    "import numpy as np\n",
    "import re\n"
   ]
  },
  {
   "cell_type": "code",
   "execution_count": 91,
   "metadata": {},
   "outputs": [],
   "source": [
    "tmp_text = []\n",
    "#URLを入れるリスト\n",
    "urls = []\n",
    "url = \"http://www.hareruyamtg.com/purchase/e/eBuy-Mdn_sspd/\"\n",
    "\n",
    "#1ページ目を格納\n",
    "urls.append(url)\n",
    "\n",
    "#2ページ目から最後のページまでを格納\n",
    "for i in range(2,6):\n",
    "    i = str(i)\n",
    "    url_page = \"http://www.hareruyamtg.com/purchase/e/eBuy-Mdn_sspd\" + \"_p\" + i\n",
    "    urls.append(url_page)"
   ]
  },
  {
   "cell_type": "code",
   "execution_count": 92,
   "metadata": {},
   "outputs": [],
   "source": [
    "for u in urls:\n",
    "    #URL取得、はれるやより\n",
    "    result = requests.get(u)\n",
    "    soup = BeautifulSoup(result.text, \"lxml\")\n",
    "    tag_a = soup.find_all('a')\n",
    "\n",
    "    \n",
    "    tmp_list = []\n",
    "\n",
    "\n",
    "    for x in tag_a:\n",
    "        tmp = x.get('href')\n",
    "        tmp = re.findall(r'purchase/g/g',tmp)\n",
    "        if tmp:\n",
    "            tmp_list.append(x.get('href'))\n",
    "\n",
    "\n",
    "    for x in tmp_list:\n",
    "        url = u + x\n",
    "        tmpResult = requests.get(url)\n",
    "        tmpSoup = BeautifulSoup(tmpResult.text, \"lxml\")\n",
    "        tag_table = tmpSoup.find_all(\"td\")\n",
    "        tmp_text.append(tag_table[9].getText())"
   ]
  },
  {
   "cell_type": "code",
   "execution_count": 93,
   "metadata": {},
   "outputs": [],
   "source": [
    "tmp_text = pd.Series(tmp_text)\n",
    "tmp_text = tmp_text.replace(r'\\r\\n\\t\\t\\t\\t\\t','', regex=True)\n",
    "df = tmp_text.drop_duplicates()\n",
    "df = df.reset_index(drop=True)\n",
    "df.columns=[\"Text\"]"
   ]
  },
  {
   "cell_type": "code",
   "execution_count": 94,
   "metadata": {},
   "outputs": [
    {
     "data": {
      "text/plain": [
       "0      [+1]：各プレイヤーはカードを１枚捨てる。[-2]：プレイヤー１人を対象とする。そのプレイ...\n",
       "1      金属術 ― (Ｔ)：あなたのマナ・プールに好きな色１色のマナ１点を加える。この能力は、あなた...\n",
       "2      [+2]：プレイヤー１人を対象とする。そのプレイヤーのライブラリーの一番上のカードを見る。あ...\n",
       "3      魂の洞窟が戦場に出るに際し、クリーチャー・タイプを１つ選ぶ。(Ｔ)：あなたのマナ・プールに(...\n",
       "4      [+4]：プレイヤー１人を対象とする。そのプレイヤーは自分の手札からカードを１枚追放する。[...\n",
       "5      (Ｔ),１点のライフを支払う,沸騰する小湖を生け贄に捧げる：あなたのライブラリーから島(Is...\n",
       "6      タルモゴイフのパワーは、すべての墓地にあるカードのカード・タイプの数に等しく、タフネスはその...\n",
       "7      賛美（あなたがコントロールするいずれかのクリーチャーが単独で攻撃するたび、そのクリーチャーは...\n",
       "8      瞬速瞬唱の魔道士が戦場に出たとき、あなたの墓地にあるインスタント・カード１枚かソーサリー・カ...\n",
       "9      (Ｔ),１点のライフを支払う：あなたのマナ・プールに(緑)か(白)を加える。(１),(Ｔ),...\n",
       "10     暗黒の深部はその上に氷(ice)カウンターが１０個置かれた状態で戦場に出る。(３)：暗黒の深...\n",
       "11     あなたのアップキープの開始時に、あなたのライブラリーの一番上のカードを１枚公開し、そのカード...\n",
       "12     烈日（これはその上に、それを唱えるために使われたマナの色１色につき蓄積(charge)カウン...\n",
       "13     虚空の杯はその上にＸ個の蓄積(charge)カウンターが置かれた状態で戦場に出る。プレイヤー...\n",
       "14     (Ｔ),１点のライフを支払う,新緑の地下墓地を生け贄に捧げる：あなたのライブラリーから沼(S...\n",
       "15     引き裂かれし永劫、エムラクールは打ち消されない。あなたが引き裂かれし永劫、エムラクールを唱え...\n",
       "16     (Ｔ),１点のライフを支払う,霧深い雨林を生け贄に捧げる：あなたのライブラリーから森(For...\n",
       "17     あなたがコントロールしている他の土地が３つ以上であるかぎり、黒割れの崖はタップ状態で戦場に出...\n",
       "18     天界の列柱はタップ状態で戦場に出る。(Ｔ)：あなたのマナ・プールに(白)か(青)を加える。(...\n",
       "19     あなたのアップキープの開始時に、あなたは１点のライフを失い、飛行を持つ黒の1/1のフェアリー...\n",
       "20     あなたは、あなたの手札からクリーチャー・カードを１枚戦場に出してもよい。そのクリーチャーは、...\n",
       "21     装備しているクリーチャーは+2/+2の修整を受けるとともに、プロテクション（赤）とプロテクシ...\n",
       "22     あなたのアップキープの開始時に、あなたは霊気の薬瓶の上に蓄積(charge)カウンターを１個...\n",
       "23     速攻あなたが呪文を唱えるたび、それがこのターンにあなたが唱えた２つ目のクリーチャー呪文である...\n",
       "24     (Ｔ),１点のライフを支払う,乾燥台地を生け贄に捧げる：あなたのライブラリーから山(Moun...\n",
       "25     (Ｔ),１点のライフを支払う,湿地の干潟を生け贄に捧げる：あなたのライブラリーから平地(Pl...\n",
       "26     虚空の力線があなたのゲーム開始時の手札にある場合、あなたはそれが戦場に出ている状態でゲームを...\n",
       "27     あなたの墓地にある伝説のクリーチャー・カード１枚を対象とし、それを戦場に戻す。そのクリーチャ...\n",
       "28     アーティファクトを１つ生け贄に捧げる：電結の荒廃者の上に+1/+1カウンターを１個置く。接合...\n",
       "29     あなたの手札のカードの枚数より大きい点数のパワーを持つクリーチャーは、攻撃できない。\\r\\n...\n",
       "                             ...                        \n",
       "141    怒り狂う山峡はタップ状態で戦場に出る。(Ｔ)：あなたのマナ・プールに(赤)か(緑)を加える。...\n",
       "142    [+2]：クリーチャー１体かプレイヤー１人を対象とする。ソリン・マルコフはそれに２点のダメー...\n",
       "143    絶滅の王のパワーとタフネスはそれぞれ、すべての墓地にあるカードの枚数に等しい。\\r\\n\\t\\...\n",
       "144    飛行大渦の大天使がプレイヤー１人に戦闘ダメージを与えるたび、あなたはあなたの手札から土地でな...\n",
       "145    [+1]：白の1/1の兵士(Soldier)クリーチャー・トークンを１体戦場に出す。[+1]...\n",
       "146    このターン、アーティファクトでない呪文を唱えた各プレイヤーは、追加のアーティファクトでない呪...\n",
       "147    (Ｔ)：あなたのマナ・プールに(１)を加える。(青/黒),(Ｔ)：あなたのマナ・プールに(青...\n",
       "148    (Ｔ)：あなたのマナ・プールに(◇)を加える。(１)：ターン終了時まで、変わり谷はすべてのク...\n",
       "149    あなたがコントロールするクリーチャーは飛行、先制攻撃、警戒、トランプル、速攻、プロテクション...\n",
       "150    魔力の篭手が戦場に出るに際し、色を１色選ぶ。選ばれた色のクリーチャーは+1/+1の修整を受け...\n",
       "151    （(Ｔ)：あなたのマナ・プールに(白)か(黒)を加える）神無き祭殿が戦場に出るに際し、あなた...\n",
       "152    あなたの墓地にある土地カードを最大３枚まで対象とし、それをあなたの手札に戻す。発掘３（あなた...\n",
       "153    （(緑/白)は(緑)でも(白)でも支払うことができる。）あなたがコントロールする他のパーマネ...\n",
       "154    アーティファクトでないパーマネントが１つあなたのコントロール下で戦場に出るたび、そのパーマネ...\n",
       "155    あなたは「騙り者、逆嶋は、それの名前が《騙り者、逆嶋/Sakashima the Impos...\n",
       "156    あなたは、撹乱する群れのマナ・コストを支払うのではなく、あなたの手札にある、点数で見たマナ・...\n",
       "157    (１)：あなたのライブラリーのカードを上から３枚見る。その後それらを望む順番で戻す。(Ｔ)：...\n",
       "158    刻印 ― 超次元レンズが戦場に出たとき、あなたがコントロールする土地１つを対象とする。あなた...\n",
       "159    (Ｔ)：あなたがコントロールする各アーティファクト・クリーチャーの上に+1/+1カウンターを...\n",
       "160    エンチャント（他のオーラ(Aura)がつけられているクリーチャー）エンチャントされているクリ...\n",
       "161    あなたがコントロールしている他の土地が３つ以上であるかぎり、闇滑りの岸はタップ状態で戦場に出...\n",
       "162    あなたのコントロール下で、パーマネントが１つタップ状態で戦場に出るたび、それをアンタップする...\n",
       "163    このターン、いずれかの対戦相手が３つ以上の呪文を唱えていた場合、あなたは精神壊しの罠のマナ・...\n",
       "164    呪文１つを対象とし、それを打ち消す。あなたの次のアップキープの開始時に(３)(青)(青)を支...\n",
       "165    複製(赤)（あなたがこの呪文を唱えるとき、あなたがその複製コストを支払った回数１回につき、そ...\n",
       "166    召集（あなたのクリーチャーが、この呪文を唱える助けとなる。この呪文を唱えるに際しあなたがタッ...\n",
       "167    あなたは、あなたの手札から呪文を、それらのマナ・コストを支払うことなく唱えてもよい。\\r\\n...\n",
       "168    あなたのライブラリーから緑のクリーチャー・カードを１枚探し、それを公開し、あなたの手札に加え...\n",
       "169    あなたがコントロールするスケルトン(Skeleton)・クリーチャーとあなたがコントロールす...\n",
       "170    すべてのパーマネントは、そのタイプに加えてアーティファクトである。戦場以外にあるすべてのカー...\n",
       "Length: 171, dtype: object"
      ]
     },
     "execution_count": 94,
     "metadata": {},
     "output_type": "execute_result"
    }
   ],
   "source": [
    "df"
   ]
  },
  {
   "cell_type": "code",
   "execution_count": null,
   "metadata": {},
   "outputs": [],
   "source": []
  }
 ],
 "metadata": {
  "kernelspec": {
   "display_name": "Python 3",
   "language": "python",
   "name": "python3"
  },
  "language_info": {
   "codemirror_mode": {
    "name": "ipython",
    "version": 3
   },
   "file_extension": ".py",
   "mimetype": "text/x-python",
   "name": "python",
   "nbconvert_exporter": "python",
   "pygments_lexer": "ipython3",
   "version": "3.6.5"
  }
 },
 "nbformat": 4,
 "nbformat_minor": 2
}
